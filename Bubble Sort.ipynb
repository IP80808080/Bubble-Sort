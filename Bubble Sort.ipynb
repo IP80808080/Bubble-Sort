{
 "cells": [
  {
   "cell_type": "code",
   "execution_count": 8,
   "id": "099203a6",
   "metadata": {},
   "outputs": [
    {
     "name": "stdout",
     "output_type": "stream",
     "text": [
      "Enter the range of list:5\n",
      "Enter the Element: 23\n",
      "Enter the Element: 24\n",
      "Enter the Element: 5\n",
      "Enter the Element: 5\n",
      "Enter the Element: 1\n",
      "Old Sort [23, 24, 5, 5, 1]\n",
      "New Sort [1, 5, 5, 23, 24]\n"
     ]
    }
   ],
   "source": [
    "x = int(input(\"Enter the range of list:\"))\n",
    "l = []\n",
    "for i in range(x):\n",
    "    z = int(input(\"Enter the Element: \"))\n",
    "    l.append(z)\n",
    "print(\"Old Sort\",l)\n",
    "for a in range(len(l)-1):\n",
    "    for b in range(len(l)-1):\n",
    "        if l[b] > l[b+1]:\n",
    "            l[b], l[b+1] = l[b+1], l[b]\n",
    "\n",
    "print(\"New Sort\",l)\n",
    "        "
   ]
  },
  {
   "cell_type": "markdown",
   "id": "886d0ec2",
   "metadata": {},
   "source": []
  }
 ],
 "metadata": {
  "kernelspec": {
   "display_name": "Python 3 (ipykernel)",
   "language": "python",
   "name": "python3"
  },
  "language_info": {
   "codemirror_mode": {
    "name": "ipython",
    "version": 3
   },
   "file_extension": ".py",
   "mimetype": "text/x-python",
   "name": "python",
   "nbconvert_exporter": "python",
   "pygments_lexer": "ipython3",
   "version": "3.9.13"
  }
 },
 "nbformat": 4,
 "nbformat_minor": 5
}
